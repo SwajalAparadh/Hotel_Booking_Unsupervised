{
 "cells": [
  {
   "cell_type": "code",
   "execution_count": 4,
   "id": "29099d4f-a941-47c0-89d3-bbb2d7c72b9e",
   "metadata": {},
   "outputs": [],
   "source": [
    "import streamlit as st\n",
    "import pandas as pd\n",
    "import joblib\n",
    "\n",
    "# Load model and scaler\n",
    "model = joblib.load('kmeans_model.pkl')\n",
    "scaler = joblib.load('scaler.pkl')\n",
    "\n",
    "# Optional: Define segment labels based on cluster interpretation\n",
    "segment_labels = {\n",
    "    0: \"Budget Traveler\",\n",
    "    1: \"Luxury Seeker\",\n",
    "    2: \"Family Vacationer\",\n",
    "    3: \"Business Traveler\"\n",
    "    # Modify or add more as per your model's actual clusters\n",
    "}\n",
    "\n",
    "# App title\n",
    "st.title(\"🏨 Hotel Booking Customer Segmentation\")\n",
    "\n",
    "# Input fields\n",
    "lead_time = st.number_input(\"⏳ Lead Time (days before arrival)\", min_value=0)\n",
    "adr = st.number_input(\"💰 Average Daily Rate (ADR)\", min_value=0.0)\n",
    "week_nights = st.number_input(\"🛏️ Stays in Week Nights\", min_value=0)\n",
    "weekend_nights = st.number_input(\"🌙 Stays in Weekend Nights\", min_value=0)\n",
    "adults = st.number_input(\"👨‍👩‍👧 Number of Adults\", min_value=1)\n",
    "children = st.number_input(\"🧒 Number of Children\", min_value=0)\n",
    "babies = st.number_input(\"👶 Number of Babies\", min_value=0)\n",
    "\n",
    "# Button to predict\n",
    "if st.button(\"🔍 Predict Customer Segment\"):\n",
    "    if adults + children + babies == 0:\n",
    "        st.warning(\"⚠️ At least one guest (adult, child, or baby) must be present.\")\n",
    "    else:\n",
    "        # Prepare data\n",
    "        input_data = pd.DataFrame([[lead_time, adr, week_nights, weekend_nights, adults, children, babies]],\n",
    "                                  columns=['lead_time', 'adr', 'stays_in_week_nights',\n",
    "                                           'stays_in_weekend_nights', 'adults', 'children', 'babies'])\n",
    "        \n",
    "        # Scale and predict\n",
    "        scaled_input = scaler.transform(input_data)\n",
    "        cluster = model.predict(scaled_input)[0]\n",
    "        \n",
    "        # Get label\n",
    "        segment = segment_labels.get(cluster, f\"Segment {cluster}\")\n",
    "        \n",
    "        # Display result\n",
    "        st.success(f\"✅ This booking belongs to **{segment}** (Cluster {cluster})\")\n"
   ]
  },
  {
   "cell_type": "code",
   "execution_count": null,
   "id": "197c18d8-e5f2-4501-88af-9fed9617c4cc",
   "metadata": {},
   "outputs": [],
   "source": []
  },
  {
   "cell_type": "code",
   "execution_count": null,
   "id": "36c3705c-1fab-4062-9525-9177b39f8454",
   "metadata": {},
   "outputs": [],
   "source": []
  }
 ],
 "metadata": {
  "kernelspec": {
   "display_name": "Python [conda env:base] *",
   "language": "python",
   "name": "conda-base-py"
  },
  "language_info": {
   "codemirror_mode": {
    "name": "ipython",
    "version": 3
   },
   "file_extension": ".py",
   "mimetype": "text/x-python",
   "name": "python",
   "nbconvert_exporter": "python",
   "pygments_lexer": "ipython3",
   "version": "3.12.7"
  }
 },
 "nbformat": 4,
 "nbformat_minor": 5
}
